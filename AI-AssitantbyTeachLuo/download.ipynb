{
 "cells": [
  {
   "cell_type": "markdown",
   "metadata": {},
   "source": [
    "**CosyVoice模型下载**"
   ]
  },
  {
   "cell_type": "code",
   "execution_count": 1,
   "metadata": {},
   "outputs": [
    {
     "name": "stderr",
     "output_type": "stream",
     "text": [
      "2024-08-09 10:25:58,008 - modelscope - INFO - PyTorch version 2.0.1+cu118 Found.\n",
      "2024-08-09 10:25:58,009 - modelscope - INFO - Loading ast index from /root/.cache/modelscope/ast_indexer\n",
      "2024-08-09 10:25:58,058 - modelscope - INFO - No valid ast index found from /root/.cache/modelscope/ast_indexer, generating ast index from prebuilt!\n",
      "2024-08-09 10:25:58,095 - modelscope - INFO - Loading done! Current index file version is 1.15.0, with md5 750810b2d0c33f9be9cca0301d47437a and a total number of 980 components indexed\n"
     ]
    },
    {
     "name": "stdout",
     "output_type": "stream",
     "text": [
      "transformer is not installed, please install it if you want to use related modules\n"
     ]
    }
   ],
   "source": [
    "from modelscope import snapshot_download"
   ]
  },
  {
   "cell_type": "code",
   "execution_count": 3,
   "metadata": {},
   "outputs": [
    {
     "name": "stderr",
     "output_type": "stream",
     "text": [
      "Downloading: 100%|██████████| 27.0M/27.0M [00:12<00:00, 2.32MB/s]\n",
      "Downloading: 100%|██████████| 47.0/47.0 [00:00<00:00, 288B/s]\n",
      "Downloading: 100%|██████████| 6.13k/6.13k [00:00<00:00, 10.5kB/s]\n",
      "Downloading: 100%|██████████| 400M/400M [02:54<00:00, 2.40MB/s] \n",
      "Downloading: 100%|██████████| 78.1M/78.1M [00:34<00:00, 2.37MB/s]\n",
      "Downloading: 100%|██████████| 1.16G/1.16G [08:39<00:00, 2.39MB/s]\n",
      "Downloading: 100%|██████████| 6.71k/6.71k [00:00<00:00, 36.8kB/s]\n",
      "Downloading: 100%|██████████| 498M/498M [03:38<00:00, 2.39MB/s] \n",
      "Downloading: 100%|██████████| 1.26M/1.26M [00:00<00:00, 1.63MB/s]\n"
     ]
    },
    {
     "data": {
      "text/plain": [
       "'./pretrained_models/CosyVoice-300M-Instruct'"
      ]
     },
     "execution_count": 3,
     "metadata": {},
     "output_type": "execute_result"
    }
   ],
   "source": [
    "# snapshot_download('iic/CosyVoice-300M', local_dir='pretrained_models/CosyVoice-300M')\n",
    "# snapshot_download('iic/CosyVoice-300M-SFT', local_dir='pretrained_models/CosyVoice-300M-SFT')\n",
    "snapshot_download('iic/CosyVoice-300M-Instruct', local_dir='./pretrained_models/CosyVoice-300M-Instruct')\n",
    "# snapshot_download('iic/speech_kantts_ttsfrd', local_dir='./pretrained_models/speech_kantts_ttsfrd')"
   ]
  },
  {
   "cell_type": "code",
   "execution_count": null,
   "metadata": {},
   "outputs": [],
   "source": []
  }
 ],
 "metadata": {
  "kernelspec": {
   "display_name": "project_1_plus",
   "language": "python",
   "name": "python3"
  },
  "language_info": {
   "codemirror_mode": {
    "name": "ipython",
    "version": 3
   },
   "file_extension": ".py",
   "mimetype": "text/x-python",
   "name": "python",
   "nbconvert_exporter": "python",
   "pygments_lexer": "ipython3",
   "version": "3.8.19"
  }
 },
 "nbformat": 4,
 "nbformat_minor": 2
}
