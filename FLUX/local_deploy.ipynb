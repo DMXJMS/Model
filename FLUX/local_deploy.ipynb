{
 "cells": [
  {
   "cell_type": "markdown",
   "metadata": {},
   "source": [
    "1. 下载项目代码"
   ]
  },
  {
   "cell_type": "code",
   "execution_count": null,
   "metadata": {},
   "outputs": [],
   "source": [
    "!git clone https://github.com/black-forest-labs/flux"
   ]
  },
  {
   "cell_type": "markdown",
   "metadata": {},
   "source": [
    "2. 安装需要的环境"
   ]
  },
  {
   "cell_type": "markdown",
   "metadata": {},
   "source": [
    "!cd flux && pip install -e '.[all]'"
   ]
  },
  {
   "cell_type": "markdown",
   "metadata": {},
   "source": [
    "3. 安装hfd下载模型工具"
   ]
  },
  {
   "cell_type": "code",
   "execution_count": 5,
   "metadata": {},
   "outputs": [
    {
     "name": "stdout",
     "output_type": "stream",
     "text": [
      "--2024-08-03 16:02:08--  https://hf-mirror.com/hfd/hfd.sh\n",
      "正在解析主机 hf-mirror.com (hf-mirror.com)... 160.16.199.204, 153.121.57.40, 133.242.169.68\n",
      "正在连接 hf-mirror.com (hf-mirror.com)|160.16.199.204|:443... 已连接。\n",
      "已发出 HTTP 请求，正在等待回应... 200 OK\n",
      "长度：6920 (6.8K) [application/x-shellscript]\n",
      "正在保存至: “hfd.sh.1”\n",
      "\n",
      "hfd.sh.1            100%[===================>]   6.76K  --.-KB/s  用时 0s        \n",
      "\n",
      "2024-08-03 16:02:09 (22.9 MB/s) - 已保存 “hfd.sh.1” [6920/6920])\n",
      "\n"
     ]
    }
   ],
   "source": [
    "!wget https://hf-mirror.com/hfd/hfd.sh && chmod a+x hfd.sh"
   ]
  },
  {
   "cell_type": "markdown",
   "metadata": {},
   "source": [
    "4. 下载FLUX模型文件"
   ]
  },
  {
   "cell_type": "code",
   "execution_count": null,
   "metadata": {},
   "outputs": [],
   "source": [
    "!export HF_ENDPOINT=https://hf-mirror.com && ./hfd.sh black-forest-labs/FLUX.1-dev --hf_username <your_hf_username> --hf_token <hf_xxx> --tool aria2c -x 4"
   ]
  },
  {
   "cell_type": "markdown",
   "metadata": {},
   "source": [
    "5. 执行脚本"
   ]
  },
  {
   "cell_type": "code",
   "execution_count": null,
   "metadata": {},
   "outputs": [],
   "source": [
    "!export FLUX_DEV='./FLUX.1-dev/flux1-dev.sft' && export AE='./FLUX.1-dev/ae.sft' && python -m flux --name flux-dev --height 800 --width 600 --prompt \"a cloudy city\""
   ]
  },
  {
   "cell_type": "code",
   "execution_count": null,
   "metadata": {},
   "outputs": [],
   "source": []
  }
 ],
 "metadata": {
  "kernelspec": {
   "display_name": "llm",
   "language": "python",
   "name": "python3"
  },
  "language_info": {
   "codemirror_mode": {
    "name": "ipython",
    "version": 3
   },
   "file_extension": ".py",
   "mimetype": "text/x-python",
   "name": "python",
   "nbconvert_exporter": "python",
   "pygments_lexer": "ipython3",
   "version": "3.10.14"
  }
 },
 "nbformat": 4,
 "nbformat_minor": 2
}
