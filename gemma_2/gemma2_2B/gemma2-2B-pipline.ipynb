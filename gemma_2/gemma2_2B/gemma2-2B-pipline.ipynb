{
 "cells": [
  {
   "cell_type": "code",
   "execution_count": 3,
   "id": "42ed587e-a6dd-4577-81a3-2aa95ad3f72e",
   "metadata": {},
   "outputs": [
    {
     "name": "stderr",
     "output_type": "stream",
     "text": [
      "Loading checkpoint shards: 100%|██████████| 2/2 [00:00<00:00,  6.75it/s]\n"
     ]
    },
    {
     "name": "stdout",
     "output_type": "stream",
     "text": [
      "我是 Gemma，一个由 Google DeepMind 训练的大型语言模型。我可以理解和生成文本，并以多种方式帮助你：\n",
      "\n",
      "* **回答你的问题：**  我可以根据我所学到的知识回答各种问题，包括事实、概念和解释。\n",
      "* **生成不同类型的文本：**  我可以写故事、诗歌、文章、摘要等等。\n",
      "* **翻译语言：**  我可以将文本翻译成不同的语言。\n",
      "* **总结文本：**  我可以提取文本的主要内容并提供简短的摘要。\n",
      "* **进行对话：**  我可以和你进行自然语言对话，并根据你的指示进行互动。\n",
      "\n",
      "请记住，我是一个 AI 模型，没有访问实时信息或 Google 搜索的能力。 \n",
      "\n",
      "你想让我做什么呢？ 😊\n"
     ]
    }
   ],
   "source": [
    "import torch\n",
    "from transformers import pipeline\n",
    "\n",
    "pipe = pipeline(\n",
    "    \"text-generation\",\n",
    "    model=\"./gemma2-2B-it/\",\n",
    "    model_kwargs={\"torch_dtype\": torch.bfloat16},\n",
    "    device=\"cuda\",  # replace with \"mps\" to run on a Mac device\n",
    ")\n",
    "\n",
    "messages = [\n",
    "    {\"role\": \"user\", \"content\": \"你是谁？可以给我提供什么服务？\"},\n",
    "]\n",
    "\n",
    "outputs = pipe(messages, max_new_tokens=256)\n",
    "assistant_response = outputs[0][\"generated_text\"][-1][\"content\"].strip()\n",
    "print(assistant_response)\n",
    "# Ahoy, matey! I be Gemma, a digital scallywag, a language-slingin' parrot of the digital seas. I be here to help ye with yer wordy woes, answer yer questions, and spin ye yarns of the digital world.  So, what be yer pleasure, eh? 🦜\n"
   ]
  },
  {
   "cell_type": "code",
   "execution_count": 2,
   "id": "d1930dad-d9f7-47f7-9fc4-8c6c087ae89a",
   "metadata": {},
   "outputs": [
    {
     "name": "stderr",
     "output_type": "stream",
     "text": [
      "/opt/conda/envs/Python-3.10.10/lib/python3.10/site-packages/tqdm/auto.py:21: TqdmWarning: IProgress not found. Please update jupyter and ipywidgets. See https://ipywidgets.readthedocs.io/en/stable/user_install.html\n",
      "  from .autonotebook import tqdm as notebook_tqdm\n",
      "Loading checkpoint shards: 100%|██████████| 2/2 [00:06<00:00,  3.24s/it]\n"
     ]
    }
   ],
   "source": [
    "# pip install accelerate\n",
    "from transformers import AutoTokenizer, AutoModelForCausalLM\n",
    "import torch\n",
    "\n",
    "tokenizer = AutoTokenizer.from_pretrained(\"./gemma2-2B-it/\")\n",
    "model = AutoModelForCausalLM.from_pretrained(\n",
    "    \"./gemma2-2B-it/\",\n",
    "    device_map=\"auto\",\n",
    "    torch_dtype=torch.bfloat16,\n",
    ")\n",
    "\n",
    "\n"
   ]
  },
  {
   "cell_type": "code",
   "execution_count": 4,
   "id": "9b3e5350-9cc2-4c5c-bb4f-ea2d5e79bed9",
   "metadata": {
    "tags": []
   },
   "outputs": [
    {
     "data": {
      "text/plain": [
       "\"{{ bos_token }}{% if messages[0]['role'] == 'system' %}{{ raise_exception('System role not supported') }}{% endif %}{% for message in messages %}{% if (message['role'] == 'user') != (loop.index0 % 2 == 0) %}{{ raise_exception('Conversation roles must alternate user/assistant/user/assistant/...') }}{% endif %}{% if (message['role'] == 'assistant') %}{% set role = 'model' %}{% else %}{% set role = message['role'] %}{% endif %}{{ '<start_of_turn>' + role + '\\n' + message['content'] | trim + '<end_of_turn>\\n' }}{% endfor %}{% if add_generation_prompt %}{{'<start_of_turn>model\\n'}}{% endif %}\""
      ]
     },
     "execution_count": 4,
     "metadata": {},
     "output_type": "execute_result"
    }
   ],
   "source": [
    "tokenizer.get_chat_template()"
   ]
  },
  {
   "cell_type": "code",
   "execution_count": 15,
   "id": "3141f6b5-c55e-444e-89ed-48a03ca42832",
   "metadata": {
    "tags": []
   },
   "outputs": [
    {
     "name": "stdout",
     "output_type": "stream",
     "text": [
      "<bos>写一个关于机器学习的诗歌，用中文。\n",
      "\n",
      "数据如海，模型如船，\n",
      "探索未知，驶向未来。\n",
      "算法的舵，指引方向，\n",
      "学习的航行，不断前进。\n",
      "\n",
      "数据是宝藏，模型是钥匙，\n",
      "打开宝藏，解开谜题。\n",
      "机器学习，智慧的源泉，\n",
      "推动社会进步，创造未来。\n",
      "\n",
      "数据无形，模型却形影不离，\n",
      "在每个角落，默默工作。\n",
      "智能的引擎，推动着时代，\n",
      "机器学习，未来之光。\n",
      "\n",
      "**Explanation:**\n",
      "\n",
      "This poem uses simple language and imagery to describe the concept of machine learning. \n",
      "\n",
      "* **Data as the sea:**  The vastness and complexity of data is compared to the ocean.\n",
      "* **Model as a ship:**  The model is presented as a ship, capable of navigating the data and exploring new territories.\n",
      "* **Algorithms as the rudder:**  The poem emphasizes the role of algorithms in guiding the model's direction.\n",
      "* **Learning as the journey:**  The poem highlights the continuous learning process of the model.\n",
      "* **Data as a treasure:**  The poem emphasizes the value of data as a source of knowledge and insights.\n",
      "* **Model as a key:**\n"
     ]
    }
   ],
   "source": [
    "input_text = \"写一个关于机器学习的诗歌，用中文\"\n",
    "input_ids = tokenizer(input_text, return_tensors=\"pt\").to(\"cuda\")\n",
    "\n",
    "outputs = model.generate(**input_ids, max_new_tokens=256)\n",
    "print(tokenizer.decode(outputs[0]))"
   ]
  },
  {
   "cell_type": "code",
   "execution_count": 17,
   "id": "154d1ad9-b263-443e-8ef4-09bbd8a1f8e4",
   "metadata": {
    "tags": []
   },
   "outputs": [
    {
     "name": "stdout",
     "output_type": "stream",
     "text": [
      "<bos><start_of_turn>user\n",
      "写一个关于机器学习的诗歌，用中文<end_of_turn>\n",
      "\n",
      "\n",
      "数据如海，信息如云，\n",
      "机器学习，探索未知。\n",
      "算法如舞，逻辑如歌，\n",
      "学习，进化，不断突破。\n",
      "\n",
      "模型训练，数据喂养，\n",
      "寻找规律，揭示真相。\n",
      "预测未来，决策明智，\n",
      "智能化时代，开启新篇章。\n",
      "\n",
      "深度学习，神经网络，\n",
      "复杂结构，高效运行。\n",
      "自然语言处理，图像识别，\n",
      "人工智能，未来无限。\n",
      "\n",
      "机器学习，无处不在，\n",
      "生活中的智慧，无声无息。\n",
      "从推荐算法，到语音识别，\n",
      "智能化时代，正在悄然来临。\n",
      "\n",
      "机器学习，未来之光，\n",
      "探索未知，创造未来。\n",
      "数据驱动，逻辑指导，\n",
      "智能化时代，开启新篇章。\n",
      "<end_of_turn>\n"
     ]
    }
   ],
   "source": [
    "messages = [\n",
    "    {\"role\": \"user\", \"content\": \"写一个关于机器学习的诗歌，用中文\"},\n",
    "]\n",
    "input_ids = tokenizer.apply_chat_template(messages, return_tensors=\"pt\", return_dict=True).to(\"cuda\")\n",
    "\n",
    "outputs = model.generate(**input_ids, max_new_tokens=256)\n",
    "print(tokenizer.decode(outputs[0]))\n"
   ]
  },
  {
   "cell_type": "code",
   "execution_count": 1,
   "id": "e7118b4b-44af-40a1-a2cc-e49e5461fd5e",
   "metadata": {
    "tags": []
   },
   "outputs": [
    {
     "name": "stderr",
     "output_type": "stream",
     "text": [
      "/opt/conda/envs/Python-3.10.10/lib/python3.10/site-packages/tqdm/auto.py:21: TqdmWarning: IProgress not found. Please update jupyter and ipywidgets. See https://ipywidgets.readthedocs.io/en/stable/user_install.html\n",
      "  from .autonotebook import tqdm as notebook_tqdm\n",
      "Loading checkpoint shards: 100%|██████████| 2/2 [00:13<00:00,  6.56s/it]\n"
     ]
    }
   ],
   "source": [
    "# pip install accelerate\n",
    "from transformers import AutoTokenizer, AutoModelForCausalLM\n",
    "\n",
    "tokenizer = AutoTokenizer.from_pretrained(\"./gemma2-2B-it/\")\n",
    "model = AutoModelForCausalLM.from_pretrained(\n",
    "    \"./gemma2-2B-it/\",\n",
    "    device_map=\"auto\",\n",
    ")\n",
    "\n",
    "\n"
   ]
  },
  {
   "cell_type": "code",
   "execution_count": 3,
   "id": "da0e0df6-0f5d-4acf-9601-3d75f2928bf4",
   "metadata": {
    "tags": []
   },
   "outputs": [
    {
     "name": "stdout",
     "output_type": "stream",
     "text": [
      "<bos>写一个关于机器学习的诗歌，用中文。\n",
      "\n",
      "数据如海，模型如船，\n",
      "探索未知，驶向未来。\n",
      "算法的舵，指引方向，\n",
      "学习的航行，不断前进。\n",
      "\n",
      "数据是宝藏，模型是钥匙，\n",
      "打开宝藏，解开谜题。\n",
      "机器学习，智慧的源泉，\n",
      "推动社会进步，创造未来。\n",
      "\n",
      "数据无形，模型却形影不离，\n",
      "在每个角落，默默工作。\n",
      "智能的引擎，推动着时代，\n",
      "机器学习，未来之光。\n",
      "\n",
      "**Explanation:**\n",
      "\n",
      "This poem uses metaphors to describe the process of machine learning. \n",
      "\n",
      "* **Data as the sea:**  Represents the vastness and complexity of data.\n",
      "* **Model as a ship:** Represents the machine learning model, which navigates through the data to find patterns and insights.\n",
      "* **Algorithms as the rudder:**  Illustrates the role of algorithms in guiding the model's direction.\n",
      "* **Learning as the voyage:**  Emphasizes the continuous process of learning and improvement.\n",
      "\n",
      "The poem also highlights the importance of data and models in machine learning:\n",
      "\n",
      "* **Data as a treasure:**  Emphasizes the value of data in machine learning.\n",
      "* **Models as keys\n"
     ]
    }
   ],
   "source": [
    "input_text = \"写一个关于机器学习的诗歌，用中文\"\n",
    "input_ids = tokenizer(input_text, return_tensors=\"pt\").to(\"cuda\")\n",
    "\n",
    "outputs = model.generate(**input_ids, max_new_tokens=256)\n",
    "print(tokenizer.decode(outputs[0]))"
   ]
  },
  {
   "cell_type": "code",
   "execution_count": 1,
   "id": "5236c94e-ec40-4b38-9b62-3776df8f99a4",
   "metadata": {
    "tags": []
   },
   "outputs": [
    {
     "name": "stderr",
     "output_type": "stream",
     "text": [
      "/opt/conda/envs/Python-3.10.10/lib/python3.10/site-packages/tqdm/auto.py:21: TqdmWarning: IProgress not found. Please update jupyter and ipywidgets. See https://ipywidgets.readthedocs.io/en/stable/user_install.html\n",
      "  from .autonotebook import tqdm as notebook_tqdm\n",
      "`low_cpu_mem_usage` was None, now set to True since model is quantized.\n",
      "Loading checkpoint shards: 100%|██████████| 2/2 [00:12<00:00,  6.11s/it]\n"
     ]
    }
   ],
   "source": [
    "# pip install bitsandbytes accelerate\n",
    "from transformers import AutoTokenizer, AutoModelForCausalLM, BitsAndBytesConfig\n",
    "\n",
    "quantization_config = BitsAndBytesConfig(load_in_8bit=True)\n",
    "\n",
    "tokenizer = AutoTokenizer.from_pretrained(\"./gemma2-2B-it/\")\n",
    "model = AutoModelForCausalLM.from_pretrained(\n",
    "    \"./gemma2-2B-it/\",\n",
    "    quantization_config=quantization_config,\n",
    ")\n",
    "\n",
    "\n"
   ]
  },
  {
   "cell_type": "code",
   "execution_count": null,
   "id": "9d170c16-ca83-44c1-8047-ffa368fb6e1f",
   "metadata": {
    "tags": []
   },
   "outputs": [],
   "source": [
    "input_text = \"写一个关于机器学习的诗歌，用中文\"\n",
    "input_ids = tokenizer(input_text, return_tensors=\"pt\").to(\"cuda\")\n",
    "\n",
    "outputs = model.generate(**input_ids, max_new_tokens=256)\n",
    "print(tokenizer.decode(outputs[0]))"
   ]
  },
  {
   "cell_type": "code",
   "execution_count": 2,
   "id": "c24dec25-389f-47e7-8462-e8b55229174b",
   "metadata": {
    "tags": []
   },
   "outputs": [
    {
     "name": "stderr",
     "output_type": "stream",
     "text": [
      "`low_cpu_mem_usage` was None, now set to True since model is quantized.\n",
      "Loading checkpoint shards: 100%|██████████| 2/2 [00:12<00:00,  6.27s/it]\n"
     ]
    }
   ],
   "source": [
    "# pip install bitsandbytes accelerate\n",
    "from transformers import AutoTokenizer, AutoModelForCausalLM, BitsAndBytesConfig\n",
    "\n",
    "quantization_config = BitsAndBytesConfig(load_in_4bit=True)\n",
    "\n",
    "tokenizer = AutoTokenizer.from_pretrained(\"./gemma2-2B-it/\")\n",
    "model = AutoModelForCausalLM.from_pretrained(\n",
    "    \"./gemma2-2B-it/\",\n",
    "    quantization_config=quantization_config,\n",
    ")\n",
    "\n",
    "\n"
   ]
  },
  {
   "cell_type": "code",
   "execution_count": 3,
   "id": "b5cfd099-593b-4fdf-80d0-36d9b2e6f785",
   "metadata": {
    "tags": []
   },
   "outputs": [
    {
     "name": "stderr",
     "output_type": "stream",
     "text": [
      "/opt/conda/envs/Python-3.10.10/lib/python3.10/site-packages/bitsandbytes/nn/modules.py:435: UserWarning: Input type into Linear4bit is torch.float16, but bnb_4bit_compute_dtype=torch.float32 (default). This will lead to slow inference or training speed.\n",
      "  warnings.warn(\n"
     ]
    },
    {
     "name": "stdout",
     "output_type": "stream",
     "text": [
      "<bos>写一个关于机器学习的诗歌，用中文\n",
      "\n",
      "**机器学习**\n",
      "\n",
      "数据如潮水，涌入海滩，\n",
      "算法如浪花，翻滚着。\n",
      "模型如船只，驶向未知，\n",
      "探索未知，寻找答案。\n",
      "\n",
      "海滩上，数据如星辰，\n",
      "闪烁着，指引着，\n",
      "算法如指南针，\n",
      "指向方向，引领着。\n",
      "\n",
      "模型如探险者，\n",
      "探索未知，寻找答案，\n",
      "不断学习，不断进化，\n",
      "突破瓶颈，走向未来。\n",
      "\n",
      "机器学习，\n",
      "一个充满希望的旅程，\n",
      "探索未知，寻找答案，\n",
      "不断学习，不断进化，\n",
      "走向未来。\n",
      "\n",
      "**诗歌解读**\n",
      "\n",
      "这首诗歌以机器学习为主题，通过诗歌的形式表达了机器学习的理念和意义。\n",
      "\n",
      "* **数据如潮水，涌入海滩**： 强调机器学习需要大量的数据作为基础，就像潮水涌入海滩一样，不断涌现。\n",
      "* **算法如浪花，翻滚着**： 算法是机器学习的核心，就像浪花翻滚着，不断地变化和演变。\n",
      "* **模型如船只，驶向未知**： 模型是机器学习的载体，就像船\n"
     ]
    }
   ],
   "source": [
    "input_text = \"写一个关于机器学习的诗歌，用中文\"\n",
    "input_ids = tokenizer(input_text, return_tensors=\"pt\").to(\"cuda\")\n",
    "\n",
    "outputs = model.generate(**input_ids, max_new_tokens=256)\n",
    "print(tokenizer.decode(outputs[0]))"
   ]
  },
  {
   "cell_type": "code",
   "execution_count": 4,
   "id": "2d678627-3822-485b-bf2a-f38d473db570",
   "metadata": {
    "tags": []
   },
   "outputs": [],
   "source": [
    "import torch\n",
    "import warnings\n",
    "\n",
    "gpu_ok = False\n",
    "if torch.cuda.is_available():\n",
    "    device_cap = torch.cuda.get_device_capability()\n",
    "    if device_cap in ((7, 0), (8, 0), (9, 0)):\n",
    "        gpu_ok = True\n",
    "\n",
    "if not gpu_ok:\n",
    "    warnings.warn(\n",
    "        \"GPU is not NVIDIA V100, A100, or H100. Speedup numbers may be lower \"\n",
    "        \"than expected.\"\n",
    "    )"
   ]
  },
  {
   "cell_type": "code",
   "execution_count": 5,
   "id": "5406ed07-4ac4-4bf4-b60a-33118eeb86a4",
   "metadata": {
    "tags": []
   },
   "outputs": [
    {
     "name": "stdout",
     "output_type": "stream",
     "text": [
      "device_cap: (7, 0)\n"
     ]
    }
   ],
   "source": [
    "print(\"device_cap:\",device_cap)"
   ]
  },
  {
   "cell_type": "code",
   "execution_count": 1,
   "id": "79c228e2-72b1-4cb6-9c79-032c2e8d262f",
   "metadata": {
    "tags": []
   },
   "outputs": [
    {
     "name": "stderr",
     "output_type": "stream",
     "text": [
      "/opt/conda/envs/Python-3.10.10/lib/python3.10/site-packages/tqdm/auto.py:21: TqdmWarning: IProgress not found. Please update jupyter and ipywidgets. See https://ipywidgets.readthedocs.io/en/stable/user_install.html\n",
      "  from .autonotebook import tqdm as notebook_tqdm\n",
      "Loading checkpoint shards: 100%|██████████| 2/2 [00:00<00:00,  3.00it/s]\n"
     ]
    },
    {
     "data": {
      "text/plain": [
       "Gemma2ForCausalLM(\n",
       "  (model): Gemma2Model(\n",
       "    (embed_tokens): Embedding(256000, 2304, padding_idx=0)\n",
       "    (layers): ModuleList(\n",
       "      (0-25): 26 x Gemma2DecoderLayer(\n",
       "        (self_attn): Gemma2SdpaAttention(\n",
       "          (q_proj): Linear(in_features=2304, out_features=2048, bias=False)\n",
       "          (k_proj): Linear(in_features=2304, out_features=1024, bias=False)\n",
       "          (v_proj): Linear(in_features=2304, out_features=1024, bias=False)\n",
       "          (o_proj): Linear(in_features=2048, out_features=2304, bias=False)\n",
       "          (rotary_emb): Gemma2RotaryEmbedding()\n",
       "        )\n",
       "        (mlp): Gemma2MLP(\n",
       "          (gate_proj): Linear(in_features=2304, out_features=9216, bias=False)\n",
       "          (up_proj): Linear(in_features=2304, out_features=9216, bias=False)\n",
       "          (down_proj): Linear(in_features=9216, out_features=2304, bias=False)\n",
       "          (act_fn): PytorchGELUTanh()\n",
       "        )\n",
       "        (input_layernorm): Gemma2RMSNorm()\n",
       "        (post_attention_layernorm): Gemma2RMSNorm()\n",
       "        (pre_feedforward_layernorm): Gemma2RMSNorm()\n",
       "        (post_feedforward_layernorm): Gemma2RMSNorm()\n",
       "      )\n",
       "    )\n",
       "    (norm): Gemma2RMSNorm()\n",
       "  )\n",
       "  (lm_head): Linear(in_features=2304, out_features=256000, bias=False)\n",
       ")"
      ]
     },
     "execution_count": 1,
     "metadata": {},
     "output_type": "execute_result"
    }
   ],
   "source": [
    "import os\n",
    "os.environ[\"TOKENIZERS_PARALLELISM\"] = \"false\"\n",
    "\n",
    "from transformers import AutoTokenizer, Gemma2ForCausalLM\n",
    "from transformers.cache_utils import HybridCache\n",
    "import torch\n",
    "\n",
    "torch.set_float32_matmul_precision(\"high\")\n",
    "\n",
    "# load the model + tokenizer\n",
    "tokenizer = AutoTokenizer.from_pretrained(\"./gemma2-2B-it/\")\n",
    "model = Gemma2ForCausalLM.from_pretrained(\"./gemma2-2B-it/\", torch_dtype=torch.bfloat16)\n",
    "model.to(\"cuda\")\n",
    "\n"
   ]
  },
  {
   "cell_type": "code",
   "execution_count": 4,
   "id": "a8e03e19-9229-4189-821f-0a2d5690730b",
   "metadata": {
    "tags": []
   },
   "outputs": [],
   "source": [
    "\n",
    "# apply the torch compile transformation\n",
    "model.forward = torch.compile(model.forward, mode=\"reduce-overhead\", fullgraph=True)\n"
   ]
  },
  {
   "cell_type": "code",
   "execution_count": 5,
   "id": "1689fa44-9087-4134-a780-96616ae0e5c8",
   "metadata": {
    "tags": []
   },
   "outputs": [],
   "source": [
    "\n",
    "# pre-process inputs\n",
    "input_text = \"写一个关于机器学习的诗歌，用中文 \"\n",
    "model_inputs = tokenizer(input_text, return_tensors=\"pt\").to(\"cuda\")\n",
    "prompt_length = model_inputs.input_ids.shape[1]\n",
    "\n",
    "\n",
    "\n"
   ]
  },
  {
   "cell_type": "code",
   "execution_count": 6,
   "id": "7f9f9b41-7a00-4c4a-9fe3-3a574d19f8bb",
   "metadata": {
    "tags": []
   },
   "outputs": [],
   "source": [
    "# set-up k/v cache\n",
    "past_key_values = HybridCache(\n",
    "    config=model.config,\n",
    "    max_batch_size=1,\n",
    "    max_cache_len=model.config.max_position_embeddings,\n",
    "    device=model.device,\n",
    "    dtype=model.dtype\n",
    ")\n",
    "\n"
   ]
  },
  {
   "cell_type": "code",
   "execution_count": null,
   "id": "d9ea8c6b-da53-45e5-bcc3-6ac7213b1008",
   "metadata": {
    "tags": []
   },
   "outputs": [],
   "source": [
    "# enable passing kv cache to generate\n",
    "model._supports_cache_class = True\n",
    "model.generation_config.cache_implementation = None\n",
    "\n",
    "# two warm-up steps\n",
    "for idx in range(2):\n",
    "    outputs = model.generate(**model_inputs, past_key_values=past_key_values, do_sample=True, temperature=1.0, max_new_tokens=128)\n",
    "    past_key_values.reset()\n",
    "outputs = model.generate(**model_inputs, past_key_values=past_key_values, do_sample=True, temperature=1.0, max_new_tokens=128)\n",
    "print(tokenizer.decode(outputs[0], skip_special_tokens=True))"
   ]
  },
  {
   "cell_type": "code",
   "execution_count": null,
   "id": "301b48d7-46cf-4adc-8ef0-3adf980505eb",
   "metadata": {},
   "outputs": [],
   "source": []
  },
  {
   "cell_type": "code",
   "execution_count": null,
   "id": "e84ca35d-f5d7-4a57-823c-fd7aabedd3c6",
   "metadata": {},
   "outputs": [],
   "source": []
  }
 ],
 "metadata": {
  "kernelspec": {
   "display_name": "Python-3.10.10",
   "language": "python",
   "name": "python-3.10.10"
  },
  "language_info": {
   "codemirror_mode": {
    "name": "ipython",
    "version": 3
   },
   "file_extension": ".py",
   "mimetype": "text/x-python",
   "name": "python",
   "nbconvert_exporter": "python",
   "pygments_lexer": "ipython3",
   "version": "3.10.10"
  }
 },
 "nbformat": 4,
 "nbformat_minor": 5
}
